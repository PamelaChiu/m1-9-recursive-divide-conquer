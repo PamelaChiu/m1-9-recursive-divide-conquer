{
 "cells": [
  {
   "cell_type": "markdown",
   "metadata": {
    "colab_type": "text",
    "id": "Bj-Gi0QlUfyL"
   },
   "source": [
    "# Exercise 1.\n",
    "\n",
    "Although merge sort has a better Big-O than selection sort, selection sort can be faster for smaller inputs.\n",
    "\n",
    "Rewrite `merge_sort(A, min_size)` such that sub-arrays smaller than an input parameter `min_size` are sorted with our `selection_sort` from the lecture `algorithms intro`.\n",
    "\n",
    "Time the difference between pure merge sort and this new algorithm. Is it faster? Why or why not?"
   ]
  },
  {
   "cell_type": "code",
   "execution_count": 136,
   "metadata": {},
   "outputs": [
    {
     "name": "stdout",
     "output_type": "stream",
     "text": [
      "10.2 µs ± 84.6 ns per loop (mean ± std. dev. of 7 runs, 100000 loops each)\n"
     ]
    },
    {
     "data": {
      "text/plain": [
       "[923, 344, 53, 2, -4, 2343, 55, 33, 1, -232]"
      ]
     },
     "execution_count": 136,
     "metadata": {},
     "output_type": "execute_result"
    }
   ],
   "source": [
    "import time\n",
    "def merge_sort(A,min_size): \n",
    "    size = len(A)\n",
    "    if size > min_size:\n",
    "        m = size // 2\n",
    "        left = merge_sort(A[m:],min_size) \n",
    "        right = merge_sort(A[:m],min_size)\n",
    "        return merge(left, right)\n",
    "    else:\n",
    "        return selection_sort(A)\n",
    "    \n",
    "def merge(left, right):\n",
    "    res = []\n",
    "    while len(left)>0 and len(right)>0: \n",
    "        if left[0]<right[0]: \n",
    "            res.append(left[0]) \n",
    "            left.pop(0)\n",
    "        else: \n",
    "            res.append(right[0]) \n",
    "            right.pop(0)\n",
    "    for i in left: \n",
    "        res.append(i) \n",
    "    for i in right: \n",
    "        res.append(i)\n",
    "    return res\n",
    "\n",
    "def selection_sort(a):\n",
    "    for i in range(len(a)):\n",
    "        max1 = i\n",
    "        for j in range(i,len(a)):\n",
    "            if a[j]>a[max1]:\n",
    "                max1=j\n",
    "        temp = a[i]\n",
    "        a[i] = a[max1]\n",
    "        a[max1] = temp    \n",
    "    return a\n",
    "    \n",
    "%timeit merge_sort([33, 1, 55, 2343, -232, 344, 2, 53, -4, 923], 5)\n",
    "merge_sort([33, 1, 55, 2343, -232, 344, 2, 53, -4, 923], 5)"
   ]
  },
  {
   "cell_type": "code",
   "execution_count": 135,
   "metadata": {},
   "outputs": [
    {
     "name": "stdout",
     "output_type": "stream",
     "text": [
      "16.8 µs ± 57.6 ns per loop (mean ± std. dev. of 7 runs, 100000 loops each)\n",
      "[-232, -4, 1, 2, 33, 53, 55, 344, 923, 2343]\n"
     ]
    }
   ],
   "source": [
    "def pure_merge_sort(A): \n",
    "    size = len(A)\n",
    "    if size > 1:\n",
    "        m = size // 2\n",
    "        left = pure_merge_sort(A[m:]) \n",
    "        right = pure_merge_sort(A[:m])\n",
    "        return merge1(left, right)\n",
    "    else:\n",
    "        return A\n",
    "\n",
    "def merge1(left, right):\n",
    "    res = []\n",
    "    while len(left)>0 and len(right)>0: \n",
    "        if left[0]<right[0]: \n",
    "            res.append(left[0]) \n",
    "            left.pop(0)\n",
    "        else: \n",
    "            res.append(right[0]) \n",
    "            right.pop(0)\n",
    "    for i in left: \n",
    "        res.append(i) \n",
    "    for i in right: \n",
    "        res.append(i)\n",
    "    return res\n",
    "\n",
    "%timeit pure_merge_sort([33, 1, 55, 2343, -232, 344, 2, 53, -4, 923])\n",
    "print(pure_merge_sort([33, 1, 55, 2343, -232, 344, 2, 53, -4, 923]))"
   ]
  },
  {
   "cell_type": "code",
   "execution_count": 134,
   "metadata": {},
   "outputs": [
    {
     "data": {
      "text/plain": [
       "'\\nThe new algorithm is faster.\\n\\nAfter the first pass, the length of list A is getting smaller(5 in the example above).\\nSelection sort works better with a shorter list.\\nThe pure merge sort is slower because the list has more elements(10 in the example above).\\nIf the list in pure_merge_sort had 5 elements, \\npure merge sort would be faster than the new algorithm.\\n'"
      ]
     },
     "execution_count": 134,
     "metadata": {},
     "output_type": "execute_result"
    }
   ],
   "source": [
    "\"\"\"\n",
    "The new algorithm is faster.\n",
    "\n",
    "After the first pass, the length of list A is getting smaller(5 in the example above).\n",
    "Selection sort works better with a shorter list.\n",
    "The pure merge sort is slower because the list has more elements(10 in the example above).\n",
    "\"\"\""
   ]
  },
  {
   "cell_type": "markdown",
   "metadata": {
    "colab": {},
    "colab_type": "code",
    "id": "_xlEp7VWWkLL"
   },
   "source": [
    "# Exercise 2. \n",
    "\n",
    "Let $A[1...n]$ be an array of $n$ distinct numbers. If $i < j$ and $A[i] > A[j]$, then the pair $(i, j)$ is called an **inversion** of $A$. \n",
    "\n",
    "In other words an inversion is a pair of unsorted elements in an array.\n",
    "\n",
    "**1)** List the five inversions of $[2, 3, 8, 6, 1]$ \n",
    "\n",
    "**2)** Give an algorithm that determines the number of inversions in any permutation on $n$ elements in $O(nlog_2(n))$ worst-case time. (Hint: Modify merge sort.)"
   ]
  },
  {
   "cell_type": "code",
   "execution_count": null,
   "metadata": {},
   "outputs": [],
   "source": [
    "\"\"\"\n",
    "Inversion list:\n",
    "(2,1),(3,1),(8,1),(6,1),(8,6)\n",
    "\"\"\""
   ]
  },
  {
   "cell_type": "code",
   "execution_count": null,
   "metadata": {},
   "outputs": [],
   "source": []
  },
  {
   "cell_type": "markdown",
   "metadata": {
    "colab": {},
    "colab_type": "code",
    "id": "7DHNJtvOUkgo"
   },
   "source": [
    "# 3. Recursive sum\n",
    "\n",
    "Write a function that uses recursion to compute the sum of an array or list of numbers\n",
    "\n",
    "```\n",
    "recursive_sum([2, 4, 5, 6, 7])\n",
    "\n",
    "output: 24\n",
    "```"
   ]
  },
  {
   "cell_type": "code",
   "execution_count": 15,
   "metadata": {},
   "outputs": [
    {
     "data": {
      "text/plain": [
       "24"
      ]
     },
     "execution_count": 15,
     "metadata": {},
     "output_type": "execute_result"
    }
   ],
   "source": [
    "def recursive_sum(lst):\n",
    "    if lst == []:\n",
    "        return 0\n",
    "    else:\n",
    "        head = lst[0]\n",
    "        lst2 = lst[1:]\n",
    "        return lst[0]+recursive_sum(lst2)\n",
    "recursive_sum([2, 4, 5, 6, 7])"
   ]
  },
  {
   "cell_type": "markdown",
   "metadata": {},
   "source": [
    "# 4. Recursive denominators\n",
    "\n",
    "Write a Python program that uses recursion to find the greatest common divisor (gcd) of two integers.\n",
    "\n",
    "```\n",
    "recursive_gcd(12,14)\n",
    "\n",
    "output : 2\n",
    "```"
   ]
  },
  {
   "cell_type": "code",
   "execution_count": 130,
   "metadata": {},
   "outputs": [
    {
     "data": {
      "text/plain": [
       "3"
      ]
     },
     "execution_count": 130,
     "metadata": {},
     "output_type": "execute_result"
    }
   ],
   "source": [
    "def recursive_gcd(num1,num2):\n",
    "    lower_number1 = min(num1,num2)\n",
    "    higher_number2 = max(num1,num2)\n",
    "    if lower_number1 == 0:\n",
    "        return higher_number2\n",
    "    if higher_number2 > lower_number1:\n",
    "        low_num1 = higher_number2%lower_number1\n",
    "        high_num2 = lower_number1\n",
    "        return recursive_gcd(low_num1,high_num2)\n",
    "recursive_gcd(1701,3768)"
   ]
  },
  {
   "cell_type": "markdown",
   "metadata": {},
   "source": [
    "# 5. Recursive power function\n",
    "\n",
    "Write a recursive function to calculate the value of 'a' to the power 'b'. \n",
    "\n",
    "```\n",
    "recursive_pow(3, 4)\n",
    "\n",
    "output: 81\n",
    "```"
   ]
  },
  {
   "cell_type": "code",
   "execution_count": 45,
   "metadata": {},
   "outputs": [
    {
     "data": {
      "text/plain": [
       "81"
      ]
     },
     "execution_count": 45,
     "metadata": {},
     "output_type": "execute_result"
    }
   ],
   "source": [
    "def recursive_pow(base,power):\n",
    "    if power == 1:\n",
    "        return base\n",
    "    return base*recursive_pow(base,power-1)\n",
    "    \n",
    "recursive_pow(3,4)"
   ]
  },
  {
   "cell_type": "markdown",
   "metadata": {},
   "source": [
    "# 6. (Stretch) K-Nearest Neighbours\n",
    "\n",
    "Consider a matrix with the following format:\n",
    "\n",
    "```\n",
    "[[0.3, 0.8],\n",
    " [-0.2, 0.5],\n",
    " [1, -1],\n",
    " [0.9, 0.5]\n",
    "]\n",
    "```\n",
    "\n",
    "Each row denotes a point, and the numbers in each row are the coordinates. The coordinates in this example are in 2d, but the matrix could be in 3d (3 numbers per row) or even higher dimensions.\n",
    "\n",
    "Your task is to write a function `knn(m, p)` or `k_nearest_neighbors(m, p, k)` which takes in a matrix of points `m`, an integer `p` denoting the index of a point in that matrix, and an intger `k` denoting the number of nearest neighbors to return.\n",
    "\n",
    "The function returns the index of the `k` nearest neighbors of the point `p` in the matrix `m`.\n",
    "\n",
    "```\n",
    "dataset = [[2.7810836,2.550537003,0],\n",
    "\t[1.465489372,2.362125076,0],\n",
    "\t[3.396561688,4.400293529,0],\n",
    "\t[1.38807019,1.850220317,0],\n",
    "\t[3.06407232,3.005305973,0],\n",
    "\t[7.627531214,2.759262235,1],\n",
    "\t[5.332441248,2.088626775,1],\n",
    "\t[6.922596716,1.77106367,1],\n",
    "\t[8.675418651,-0.242068655,1],\n",
    "\t[7.673756466,3.508563011,1]]\n",
    "\n",
    "knn(dataset, 0, 2)\n",
    "\n",
    "output : [4, 1]\n",
    "```\n",
    "\n",
    "You can use `from sklearn.neighbors import NearestNeighbors` to test your function"
   ]
  },
  {
   "cell_type": "code",
   "execution_count": null,
   "metadata": {},
   "outputs": [],
   "source": []
  }
 ],
 "metadata": {
  "colab": {
   "authorship_tag": "ABX9TyNlxxWG+wkjGmf/FynU0Azv",
   "collapsed_sections": [],
   "name": "Workshop: Recursive && Divide and conquer.ipynb",
   "provenance": []
  },
  "kernelspec": {
   "display_name": "Python 3",
   "language": "python",
   "name": "python3"
  },
  "language_info": {
   "codemirror_mode": {
    "name": "ipython",
    "version": 3
   },
   "file_extension": ".py",
   "mimetype": "text/x-python",
   "name": "python",
   "nbconvert_exporter": "python",
   "pygments_lexer": "ipython3",
   "version": "3.8.3"
  }
 },
 "nbformat": 4,
 "nbformat_minor": 1
}
